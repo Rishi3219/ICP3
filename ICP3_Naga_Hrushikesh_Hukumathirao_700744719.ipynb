{
  "nbformat": 4,
  "nbformat_minor": 0,
  "metadata": {
    "colab": {
      "provenance": []
    },
    "kernelspec": {
      "name": "python3",
      "display_name": "Python 3"
    },
    "language_info": {
      "name": "python"
    }
  },
  "cells": [
    {
      "cell_type": "code",
      "execution_count": 1,
      "metadata": {
        "colab": {
          "base_uri": "https://localhost:8080/"
        },
        "id": "LzdSKek8_W6K",
        "outputId": "d414bb44-ac46-4b70-bb64-27ff2a7432d3"
      },
      "outputs": [
        {
          "output_type": "stream",
          "name": "stdout",
          "text": [
            "Average salary: 68000.0\n",
            "Total number of employees: 5\n"
          ]
        }
      ],
      "source": [
        "class Employee:\n",
        "    employee_count = 0  # Class variable to count the number of employees\n",
        "\n",
        "    def __init__(self, name, family, salary, department):\n",
        "        self.name = name\n",
        "        self.family = family\n",
        "        self.salary = salary\n",
        "        self.department = department\n",
        "        Employee.employee_count += 1\n",
        "\n",
        "    @staticmethod\n",
        "    def average_salary(employees):\n",
        "        total_salary = sum(emp.salary for emp in employees)\n",
        "        return total_salary / len(employees) if employees else 0\n",
        "\n",
        "class FulltimeEmployee(Employee):\n",
        "    def __init__(self, name, family, salary, department, benefits):\n",
        "        super().__init__(name, family, salary, department)\n",
        "        self.benefits = benefits\n",
        "\n",
        "# Creating instances of Employee class\n",
        "employee1 = Employee(\"John Doe\", \"Doe Family\", 60000, \"HR\")\n",
        "employee2 = Employee(\"Jane Smith\", \"Smith Family\", 75000, \"Finance\")\n",
        "employee3 = Employee(\"Bob Johnson\", \"Johnson Family\", 55000, \"IT\")\n",
        "\n",
        "# Creating instances of FulltimeEmployee class\n",
        "fulltime_employee1 = FulltimeEmployee(\"Alice Brown\", \"Brown Family\", 80000, \"Engineering\", \"Healthcare\")\n",
        "fulltime_employee2 = FulltimeEmployee(\"Mike Wilson\", \"Wilson Family\", 70000, \"Marketing\", \"Retirement Plan\")\n",
        "\n",
        "# Calling member functions\n",
        "all_employees = [employee1, employee2, employee3, fulltime_employee1, fulltime_employee2]\n",
        "\n",
        "avg_salary = Employee.average_salary(all_employees)\n",
        "print(\"Average salary:\", avg_salary)\n",
        "\n",
        "print(\"Total number of employees:\", Employee.employee_count)\n"
      ]
    },
    {
      "cell_type": "code",
      "source": [
        "import numpy as np\n",
        "\n",
        "# Create a random vector of size 20 with floats in the range 1-20\n",
        "random_vector = np.random.uniform(1, 20, size=20)\n",
        "\n",
        "# Reshape the vector to a 4x5 array\n",
        "reshaped_array = random_vector.reshape(4, 5)\n",
        "\n",
        "# Find the indices of the maximum values in each row\n",
        "max_indices = np.argmax(reshaped_array, axis=1)\n",
        "\n",
        "# Replace the maximum values with 0\n",
        "reshaped_array[np.arange(4), max_indices] = 0\n",
        "\n",
        "print(reshaped_array)\n"
      ],
      "metadata": {
        "colab": {
          "base_uri": "https://localhost:8080/"
        },
        "id": "DIx0etQyKAhw",
        "outputId": "b53147b0-295d-4a31-ac7c-8b77af7d20bd"
      },
      "execution_count": 2,
      "outputs": [
        {
          "output_type": "stream",
          "name": "stdout",
          "text": [
            "[[ 0.         10.21149202 13.89654996  4.89514437  9.3354887 ]\n",
            " [ 5.4870248   3.74846079  4.71402394  3.47658367  0.        ]\n",
            " [10.65285653  6.88451681  0.          9.82110362  3.27032201]\n",
            " [ 1.63369953 10.31663605  0.          1.66073902  4.25611867]]\n"
          ]
        }
      ]
    }
  ]
}